{
 "cells": [
  {
   "cell_type": "code",
   "execution_count": 2,
   "metadata": {},
   "outputs": [
    {
     "ename": "NameError",
     "evalue": "name '__file__' is not defined",
     "output_type": "error",
     "traceback": [
      "\u001b[0;31m---------------------------------------------------------------------------\u001b[0m",
      "\u001b[0;31mNameError\u001b[0m                                 Traceback (most recent call last)",
      "\u001b[0;32m<ipython-input-2-71515c78e514>\u001b[0m in \u001b[0;36m<module>\u001b[0;34m\u001b[0m\n\u001b[1;32m     10\u001b[0m \u001b[0;31m# REPO_URL = \"https://github.com/bevennyamande/Scrapper.git\"\u001b[0m\u001b[0;34m\u001b[0m\u001b[0;34m\u001b[0m\u001b[0;34m\u001b[0m\u001b[0m\n\u001b[1;32m     11\u001b[0m \u001b[0;34m\u001b[0m\u001b[0m\n\u001b[0;32m---> 12\u001b[0;31m \u001b[0mproject_dir\u001b[0m \u001b[0;34m=\u001b[0m \u001b[0mos\u001b[0m\u001b[0;34m.\u001b[0m\u001b[0mpath\u001b[0m\u001b[0;34m.\u001b[0m\u001b[0mdirname\u001b[0m\u001b[0;34m(\u001b[0m\u001b[0mos\u001b[0m\u001b[0;34m.\u001b[0m\u001b[0mpath\u001b[0m\u001b[0;34m.\u001b[0m\u001b[0mabspath\u001b[0m\u001b[0;34m(\u001b[0m\u001b[0m__file__\u001b[0m\u001b[0;34m)\u001b[0m\u001b[0;34m)\u001b[0m\u001b[0;34m\u001b[0m\u001b[0;34m\u001b[0m\u001b[0m\n\u001b[0m\u001b[1;32m     13\u001b[0m \u001b[0;34m\u001b[0m\u001b[0m\n\u001b[1;32m     14\u001b[0m \u001b[0mos\u001b[0m\u001b[0;34m.\u001b[0m\u001b[0menviron\u001b[0m\u001b[0;34m[\u001b[0m\u001b[0;34m'GIT_ASKPASS'\u001b[0m\u001b[0;34m]\u001b[0m \u001b[0;34m=\u001b[0m \u001b[0mos\u001b[0m\u001b[0;34m.\u001b[0m\u001b[0mpath\u001b[0m\u001b[0;34m.\u001b[0m\u001b[0mjoin\u001b[0m\u001b[0;34m(\u001b[0m\u001b[0mproject_dir\u001b[0m\u001b[0;34m,\u001b[0m \u001b[0;34m'askpass.py'\u001b[0m\u001b[0;34m)\u001b[0m\u001b[0;34m\u001b[0m\u001b[0;34m\u001b[0m\u001b[0m\n",
      "\u001b[0;31mNameError\u001b[0m: name '__file__' is not defined"
     ]
    }
   ],
   "source": [
    "import os\n",
    "from datetime import date\n",
    "import pandas as pd\n",
    "import git\n",
    "from getpass import getpass\n",
    "\n",
    "\n",
    "\n",
    "URL = \"https://www.zse.co.zw/price-sheet/\"\n",
    "# REPO_URL = \"https://github.com/bevennyamande/Scrapper.git\"\n",
    "\n",
    "project_dir = os.path.dirname(os.path.abspath(__file__))\n",
    "\n",
    "os.environ['GIT_ASKPASS'] = os.path.join(project_dir, 'askpass.py')\n",
    "os.environ['GIT_USERNAME'] = username\n",
    "os.environ['GIT_PASSWORD'] = getpass()\n",
    "\n",
    "\n",
    "def get_todays_pricesheet(URL: str):\n",
    "    \"\"\" Get the price sheet from the website \"\"\"\n",
    "    \n",
    "    dataframe = pd.read_html(URL)\n",
    "    return dataframe\n",
    "\n",
    "\n",
    "def get_todays_date() -> str:\n",
    "    \"\"\" Get todays date \"\"\"\n",
    "    \n",
    "    today_date = date.today()\n",
    "    return today_date.strftime(\"%d-%m-%Y\") # dd-mm-YY\n",
    "\n",
    "\n",
    "def set_todays_filename() ->str:\n",
    "    \"\"\" Name to save the excel file \"\"\"\n",
    "    \n",
    "    return f'{get_todays_date()}.xlsx'\n",
    "\n",
    "\n",
    "def is_file_exist():\n",
    "    \"\"\" Check if the file already exists \"\"\"\n",
    "    pass\n",
    "\n",
    "\n",
    "def update_repo():\n",
    "    repo = git.Repo(\".\")\n",
    "    repo.init()\n",
    "    repo.git.add(\"--all\")\n",
    "    repo.git.commit(f'-m created new file {set_todays_filename()}')\n",
    "    repo.git.push()\n",
    "    return repo\n",
    "\n",
    "\n",
    "def main():\n",
    "    df = get_todays_pricesheet(URL)\n",
    "    df[0].to_excel(set_todays_filename(), header=True, index=False)\n",
    "    print(update_repo())\n",
    "    \n",
    "    \n",
    "\n",
    "if __name__ == \"__main__\":\n",
    "    main()\n",
    "\n"
   ]
  },
  {
   "cell_type": "code",
   "execution_count": null,
   "metadata": {},
   "outputs": [],
   "source": []
  },
  {
   "cell_type": "code",
   "execution_count": null,
   "metadata": {},
   "outputs": [],
   "source": []
  }
 ],
 "metadata": {
  "kernelspec": {
   "display_name": "Python 3",
   "language": "python",
   "name": "python3"
  },
  "language_info": {
   "codemirror_mode": {
    "name": "ipython",
    "version": 3
   },
   "file_extension": ".py",
   "mimetype": "text/x-python",
   "name": "python",
   "nbconvert_exporter": "python",
   "pygments_lexer": "ipython3",
   "version": "3.8.5"
  }
 },
 "nbformat": 4,
 "nbformat_minor": 4
}
