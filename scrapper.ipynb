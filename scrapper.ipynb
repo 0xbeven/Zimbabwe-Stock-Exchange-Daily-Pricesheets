{
 "cells": [
  {
   "cell_type": "code",
   "execution_count": 7,
   "metadata": {},
   "outputs": [],
   "source": [
    "import os\n",
    "from datetime import date\n",
    "import pandas as pd\n",
    "\n",
    "\n",
    "URL = \"https://www.zse.co.zw/price-sheet/\"\n",
    "\n",
    "def get_todays_pricesheet(URL: str):\n",
    "    \"\"\" Get the price sheet from the website \"\"\"\n",
    "    \n",
    "    dataframe = pd.read_html(URL)\n",
    "    return dataframe\n",
    "\n",
    "\n",
    "def get_todays_date() -> str:\n",
    "    \"\"\" Get todays date \"\"\"\n",
    "    \n",
    "    today_date = date.today()\n",
    "    return today_date.strftime(\"%d-%m-%Y\") # dd-mm-YY\n",
    "\n",
    "\n",
    "def set_todays_filename() ->str:\n",
    "    \"\"\" Name to save the excel file \"\"\"\n",
    "    \n",
    "    return f'./pricesheets/{get_todays_date()}.xlsx'\n",
    "\n",
    "\n",
    "def is_file_exist():\n",
    "    \"\"\" Check if the file already exists \"\"\"\n",
    "    pass\n",
    "\n",
    "\n",
    "def main():\n",
    "    df = get_todays_pricesheet(URL)\n",
    "    df[0].to_excel(set_todays_filename(), header=True, index=False)\n",
    "\n",
    "    \n",
    "if __name__ == \"__main__\":\n",
    "    main()\n",
    "\n"
   ]
  },
  {
   "cell_type": "code",
   "execution_count": null,
   "metadata": {},
   "outputs": [],
   "source": []
  },
  {
   "cell_type": "code",
   "execution_count": null,
   "metadata": {},
   "outputs": [],
   "source": []
  }
 ],
 "metadata": {
  "kernelspec": {
   "display_name": "Python 3",
   "language": "python",
   "name": "python3"
  },
  "language_info": {
   "codemirror_mode": {
    "name": "ipython",
    "version": 3
   },
   "file_extension": ".py",
   "mimetype": "text/x-python",
   "name": "python",
   "nbconvert_exporter": "python",
   "pygments_lexer": "ipython3",
   "version": "3.8.5"
  }
 },
 "nbformat": 4,
 "nbformat_minor": 4
}
