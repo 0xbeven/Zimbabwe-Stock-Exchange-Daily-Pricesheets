{
 "cells": [
  {
   "cell_type": "code",
   "execution_count": 105,
   "id": "retained-clerk",
   "metadata": {},
   "outputs": [
    {
     "name": "stdout",
     "output_type": "stream",
     "text": [
      "Afdis Distillers Limited 35.0000 40.0000 100\n",
      "African Sun Limited 1.7811 1.5738 16500\n",
      "Amalgamated Regional Trading (Art) Holdings Limited 6.5386 6.5686 27100\n",
      "Ariston Holdings Limited 2.3400 2.3381 134600\n",
      "Axia Corporation Limited 16.3664 15.9999 150500\n",
      "Bindura Nickel Corporation Limited 5.8723 6.0081 52900\n",
      "British American Tobacco Zimbabwe Limited 874.0000 869.9000 400\n",
      "Cafca Limited 110.0000 110.0000 80500\n",
      "Cassava Smartech Zimbabwe Limited 10.0924 10.0782 169200\n",
      "Cbz Holdings Limited 77.1882 83.0791 17700\n",
      "Dairibord Holdings Limited 19.2500 19.3248 31600\n",
      "Delta Corporation Limited 43.2178 44.6643 76000\n",
      "Econet Wireless Zimbabwe Limited 17.0001 17.1675 141400\n",
      "Edgars Stores Limited 3.4965 3.5000 4600\n",
      "Fbc Holdings Limited 27.5000 27.5000 2000\n",
      "Fidelity Life Assurance Limited 2.5500 3.0000 200\n",
      "First Capital Bank Limited 1.8794 1.8800 587500\n",
      "First Mutual Holdings Limited 14.2840 14.5455 13300\n",
      "First Mutual Properties Limited 5.7613 5.7613 0\n",
      "General Beltings Holdings Limited 0.2431 0.2506 400700\n",
      "Getbucks Microfinance Bank Limited 0.3105 0.3105 0\n",
      "Hippo Valley Estates Limited 115.0833 120.3911 17900\n",
      "Innscor Africa Limited 58.1213 60.0704 80100\n",
      "Lafarge Cement Zimbabwe Limited 27.6000 27.6000 0\n",
      "Mashonaland Holdings Limited 1.1971 1.3047 93500\n",
      "Masimba Holdings Limited 17.9065 19.0000 325900\n",
      "Medtech Holdings Limited 0.0721 0.0749 7237200\n",
      "Meikles Limited 45.0000 44.3984 329800\n",
      "Nampak Zimbabwe Limited 6.8945 7.0000 29700\n",
      "National Foods Holdings Limited 221.7500 266.1000 500\n",
      "National Tyre Services Limited 0.6800 0.8150 200\n",
      "Nmbz Holdings Limited 6.4389 6.4389 0\n",
      "Ok Zimbabwe Limited 15.2079 14.8620 1361100\n",
      "Padenga Holdings Limited 33.9000 31.5437 108700\n",
      "Proplastics Limited 26.0000 24.4167 6600\n",
      "Rainbow Tourism Group Limited 1.6621 1.5573 3000\n",
      "Riozim Limited 20.0000 20.0000 80200\n",
      "Seed Co Limited 21.6089 21.6089 0\n",
      "Simbisa Brands Limited 18.9505 19.5840 519200\n",
      "Starafricacorporation Limited 0.5079 0.5079 208400\n",
      "Truworths Limited 0.6043 0.6350 2000\n",
      "Tsl Limited 43.0000 43.0000 5700\n",
      "Turnall Holdings Limited 1.3045 1.3000 60100\n",
      "Unifreight Africa Limited 4.6000 5.5200 100\n",
      "Willdale Limited 0.5500 0.5608 5600\n",
      "Zb Financial Holdings Limited 40.0000 40.0000 0\n",
      "Zeco Holdings Limited 0.0002 0.0002 0\n",
      "Zimbabwe Newspapers (1980) Limited 1.1200 1.0000 700\n",
      "Zimplow Holdings Limited 8.2000 8.2000 3400\n",
      "Zimre Holdings Limited 2.0277 2.1395 170600\n"
     ]
    }
   ],
   "source": [
    "import os, csv\n",
    "from datetime import datetime\n",
    "import pandas as pd\n",
    "\n",
    "temp = []\n",
    "dates_collected = []\n",
    "\n",
    "for directory, _, files in os.walk('./xls-daily-price-sheets/'):\n",
    "    # TODO: implement way to exclude already loaded files\n",
    "    \n",
    "    for _file in files:\n",
    "        dates_collected.append(_file.replace('.xlsx',\"\"))\n",
    "        temp.append((os.path.join(directory, _file)))\n",
    "        \n",
    "df = pd.read_excel(temp[0])\n",
    "\n",
    "# TODO: create another csv file with the traded volumes only\n",
    "\n",
    "# TODO: sync the dates and label the dates accordingly\n",
    "\n",
    "# lets get all the names of listed companies\n",
    "listed_companies = [comp for comp in df[0]][6::]\n",
    "\n",
    "# loop through each file to collect name,opening,closing prices and traded_volume\n",
    "for idx in range(len(df)):\n",
    "    \n",
    "    if df[0][idx] in listed_companies:\n",
    "        # print the company name, opening_price,closing_price, tot_volume_traded\n",
    "        print(df[0][idx], df[1][idx], df[2][idx], df[3][idx])\n",
    "        \n",
    "# TODO: Find a way to integrate the whole data into one csv file\n",
    "\n"
   ]
  },
  {
   "cell_type": "code",
   "execution_count": null,
   "id": "champion-royalty",
   "metadata": {},
   "outputs": [],
   "source": []
  },
  {
   "cell_type": "code",
   "execution_count": null,
   "id": "alternative-square",
   "metadata": {},
   "outputs": [],
   "source": []
  }
 ],
 "metadata": {
  "kernelspec": {
   "display_name": "Python 3",
   "language": "python",
   "name": "python3"
  },
  "language_info": {
   "codemirror_mode": {
    "name": "ipython",
    "version": 3
   },
   "file_extension": ".py",
   "mimetype": "text/x-python",
   "name": "python",
   "nbconvert_exporter": "python",
   "pygments_lexer": "ipython3",
   "version": "3.9.1+"
  }
 },
 "nbformat": 4,
 "nbformat_minor": 5
}
