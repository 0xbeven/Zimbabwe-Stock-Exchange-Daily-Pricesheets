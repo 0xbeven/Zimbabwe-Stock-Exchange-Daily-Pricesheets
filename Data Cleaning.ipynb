{
 "cells": [
  {
   "cell_type": "code",
   "execution_count": 3,
   "id": "retained-clerk",
   "metadata": {},
   "outputs": [
    {
     "name": "stdout",
     "output_type": "stream",
     "text": [
      "Afdis Distillers Limited 50.0000 40.0619 60700\n",
      "African Sun Limited 2.5050 2.4853 53500\n",
      "Amalgamated Regional Trading (Art) Holdings Limited 6.9800 6.5000 10300\n",
      "Ariston Holdings Limited 2.2494 2.2138 34000\n",
      "Axia Corporation Limited 15.9838 15.7730 3700\n",
      "Bindura Nickel Corporation Limited 5.9955 5.2731 213400\n",
      "British American Tobacco Zimbabwe Limited 870.0000 870.0000 0\n",
      "Cafca Limited 113.7500 110.0000 700\n",
      "Cassava Smartech Zimbabwe Limited 14.8250 14.2644 28400\n",
      "Cbz Holdings Limited 80.5455 79.9500 24600\n",
      "Dairibord Holdings Limited 19.0000 19.0000 1800\n",
      "Delta Corporation Limited 49.7185 46.2219 33800\n",
      "Econet Wireless Zimbabwe Limited 20.0100 19.7097 57100\n",
      "Edgars Stores Limited 4.0086 4.0000 1000\n",
      "Fbc Holdings Limited 25.0088 25.0000 7300\n",
      "Fidelity Life Assurance Limited 5.4600 5.3744 1800\n",
      "First Capital Bank Limited 1.8679 1.8055 133200\n",
      "First Mutual Holdings Limited 20.0000 20.0000 1200\n",
      "First Mutual Properties Limited 5.3500 5.3500 0\n",
      "General Beltings Holdings Limited 0.7316 0.6974 20900\n",
      "Getbucks Microfinance Bank Limited 0.3500 0.3500 0\n",
      "Hippo Valley Estates Limited 129.2914 115.0000 1900\n",
      "Innscor Africa Limited 67.9974 67.0667 13500\n",
      "Lafarge Cement Zimbabwe Limited 40.0000 40.0000 0\n",
      "Mashonaland Holdings Limited 2.2796 2.3152 68300\n",
      "Masimba Holdings Limited 17.9503 17.9500 100\n",
      "Medtech Holdings Limited 0.1176 0.1410 3521100\n",
      "Meikles Limited 50.0000 49.2740 7300\n",
      "Nampak Zimbabwe Limited 9.4328 9.4944 900\n",
      "National Foods Holdings Limited 315.0000 315.0000 1500\n",
      "National Tyre Services Limited 4.1800 5.0150 26000\n",
      "Nmbz Holdings Limited 7.5632 7.9516 1900\n",
      "Ok Zimbabwe Limited 15.9427 15.5986 127600\n",
      "Padenga Holdings Limited 39.1538 38.2000 32500\n",
      "Proplastics Limited 22.8000 22.8000 0\n",
      "Rainbow Tourism Group Limited 2.1997 2.2000 600\n",
      "Riozim Limited 21.0000 21.0000 600\n",
      "Seed Co Limited 21.6089 21.6089 0\n",
      "Simbisa Brands Limited 29.9994 30.0118 59100\n",
      "Starafricacorporation Limited 0.4829 0.4721 1532100\n",
      "Truworths Limited 1.0000 1.0150 10000\n",
      "Tsl Limited 43.0000 43.0000 0\n",
      "Turnall Holdings Limited 4.0269 3.8358 15800\n",
      "Unifreight Africa Limited 12.0000 14.4000 200\n",
      "Willdale Limited 1.0992 1.0948 121900\n",
      "Zb Financial Holdings Limited 31.8000 33.1143 700\n",
      "Zeco Holdings Limited 0.0002 0.0002 0\n",
      "Zimbabwe Newspapers (1980) Limited 1.3230 1.0652 5000\n",
      "Zimplow Holdings Limited 8.0000 8.0000 1100\n",
      "Zimre Holdings Limited 2.2000 2.1927 8800\n"
     ]
    }
   ],
   "source": [
    "import os, csv\n",
    "from datetime import datetime\n",
    "import pandas as pd\n",
    "\n",
    "temp = []\n",
    "dates_collected = []\n",
    "\n",
    "for directory, _, files in os.walk(\"./xls-daily-price-sheets/\"):\n",
    "    # TODO: implement way to exclude already loaded files\n",
    "\n",
    "    for _file in files:\n",
    "        dates_collected.append(_file.replace(\".xlsx\", \"\"))\n",
    "        temp.append((os.path.join(directory, _file)))\n",
    "\n",
    "df = pd.read_excel(temp[0])\n",
    "\n",
    "# TODO: create another csv file with the traded volumes only\n",
    "\n",
    "# TODO: sync the dates and label the dates accordingly\n",
    "\n",
    "# lets get all the names of listed companies\n",
    "listed_companies = [comp for comp in df[0]][6::]\n",
    "\n",
    "\n",
    "# loop through each file to collect name,opening,closing prices and traded_volume\n",
    "for idx in range(len(df)):\n",
    "\n",
    "    if df[0][idx] in listed_companies:\n",
    "        # print the company name, opening_price,closing_price, tot_volume_traded\n",
    "        print(df[0][idx], df[1][idx], df[2][idx], df[3][idx])\n",
    "\n",
    "\n",
    "# TODO: Find a way to integrate the whole data into one csv file"
   ]
  },
  {
   "cell_type": "code",
   "execution_count": 60,
   "id": "champion-royalty",
   "metadata": {},
   "outputs": [],
   "source": [
    "import pandas as pd\n",
    "from datetime import datetime\n",
    "\n",
    "BASE_URL = \"https://www.zse.co.zw/price-sheet/\"\n",
    "dataframe = pd.read_html(BASE_URL, skiprows=1)\n",
    "df = dataframe[0]\n",
    "\n",
    "#  Drop all missing values if any\n",
    "df.dropna(inplace=True)\n",
    "\n",
    "# only get the four columns and discard the first\n",
    "df = df.iloc[::, 1:]\n",
    "\n",
    "# Only interested in the Name, Opening, Closing, Volume Labels\n",
    "df.columns = [\"Name\", \"Opening\", \"Closing\", \"Volume\"]\n",
    "# df_trades = df[['Opening', 'Closing', 'Volume']].T.agg(','.join)\n",
    "\n",
    "df_trades = (\n",
    "    df[\"Closing\"].astype(str)\n",
    "    + \",\"\n",
    "    + df[\"Opening\"].astype(str)\n",
    "    + \",\"\n",
    "    + df[\"Volume\"].astype(str)\n",
    ")\n",
    "# df_trades\n",
    "df = [[df[\"Name\"], df_trades]]\n",
    "\n",
    "now = datetime.now()  # current date and time\n",
    "current_date = now.strftime(\"%m-%d-%Y\")"
   ]
  },
  {
   "cell_type": "code",
   "execution_count": 61,
   "id": "alternative-square",
   "metadata": {},
   "outputs": [
    {
     "ename": "AttributeError",
     "evalue": "'list' object has no attribute 'to_csv'",
     "output_type": "error",
     "traceback": [
      "\u001b[0;31m---------------------------------------------------------------------------\u001b[0m",
      "\u001b[0;31mAttributeError\u001b[0m                            Traceback (most recent call last)",
      "\u001b[0;32m/tmp/ipykernel_20401/1765688110.py\u001b[0m in \u001b[0;36m<module>\u001b[0;34m\u001b[0m\n\u001b[0;32m----> 1\u001b[0;31m \u001b[0mdf\u001b[0m\u001b[0;34m.\u001b[0m\u001b[0mto_csv\u001b[0m\u001b[0;34m(\u001b[0m\u001b[0;34m\"fake.xlsx\"\u001b[0m\u001b[0;34m)\u001b[0m\u001b[0;34m\u001b[0m\u001b[0;34m\u001b[0m\u001b[0m\n\u001b[0m",
      "\u001b[0;31mAttributeError\u001b[0m: 'list' object has no attribute 'to_csv'"
     ]
    }
   ],
   "source": [
    "df.to_csv(\"fake.xlsx\")"
   ]
  },
  {
   "cell_type": "code",
   "execution_count": null,
   "id": "914980fb",
   "metadata": {},
   "outputs": [],
   "source": []
  }
 ],
 "metadata": {
  "kernelspec": {
   "display_name": "Python 3 (ipykernel)",
   "language": "python",
   "name": "python3"
  },
  "language_info": {
   "codemirror_mode": {
    "name": "ipython",
    "version": 3
   },
   "file_extension": ".py",
   "mimetype": "text/x-python",
   "name": "python",
   "nbconvert_exporter": "python",
   "pygments_lexer": "ipython3",
   "version": "3.10.4"
  }
 },
 "nbformat": 4,
 "nbformat_minor": 5
}
